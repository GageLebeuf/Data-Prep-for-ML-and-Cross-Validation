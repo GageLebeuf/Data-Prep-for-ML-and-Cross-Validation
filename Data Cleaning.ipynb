{
  "metadata": {
    "language_info": {
      "codemirror_mode": {
        "name": "python",
        "version": 3
      },
      "file_extension": ".py",
      "mimetype": "text/x-python",
      "name": "python",
      "nbconvert_exporter": "python",
      "pygments_lexer": "ipython3",
      "version": "3.8"
    },
    "kernelspec": {
      "name": "python",
      "display_name": "Pyolite",
      "language": "python"
    }
  },
  "nbformat_minor": 4,
  "nbformat": 4,
  "cells": [
    {
      "cell_type": "markdown",
      "source": "# Data Cleaning and Transformation\n\nIn this section I will explain the process of cleaning and transforming your data.  These are necessary (and evil) steps before you are able to implement a machine learning model to your data.  Many data scientists will tell you that a majority of their time is spent cleaning and preparing the data and not fitting actual models.\n\n$\\it{Data Cleaning:}$ refers to the process of removing unwanted, irrelevant, or corrupted data from your dataset.\n\n$\\it{Data Transformation:}$ refers to the process of converting or transforming data into a format that makes it easier to process for a machine learning model\n\n## Five characteristics of quality data:\n\n\n#### Validity:\n\nData Validity is ensuring there is consistency within a dataset's features.  This can mean ensuring there are no incorrect class types or out of range numerical values that would throw an error if fed into a ML model. \n\n\n#### Accuracy:\n\nAccuracy refers to making sure that the data you are using is feasible and meaningful.  A ML model trained on inaccurate data will follow the programming logic of \"garbage in - garbage out\" in terms of performance.\n\n#### Completeness:\n\nCompleteness refers to ensuring that observations are not missing values.  If there are features that are missing values you must either drop that observation or impute the missing value based on some other logic.\n\n#### Consistency:\n\nData consistency is making sure that the data you are feeding to your ML model matches the same information that is stored in what ever data warehousing program you are using.\n\n#### Uniformity:\n\nData uniformity is making sure that aren't multiple data formats within a feature.  Think of a column that has temperatures in both fehrenheit and celsius.\n\n<br>\n<br>\n\n## Data Cleaning/Transformation Practice with Python\n\nBelow is a premade dataset of data scientist salaries that we will manipulate with various data cleaning methods.\n",
      "metadata": {}
    },
    {
      "cell_type": "code",
      "source": "import numpy as np\nimport pandas as pd\nimport matplotlib.pyplot as plt\nimport warnings\nwarnings.filterwarnings('ignore')\n%matplotlib inline\n\ndata = {'Name' : ['Steve','Dave','Susan','Mike','Alice','Bob','Sarah','Nicole','Heather','Dave','Alice','Alex'],\n        'Age' : ['49', '30', '44', '26', '32', '42', '45', '53', '44', '30', '32', '41'],\n        'State' : ['New York', 'Massachusetts', 'Texas', 'New York', 'Pennsylvania', 'Idaho', 'New York', 'Arizona', 'Texas', 'Massachusetts', 'Pennsylvania', 'New York'],\n        'City' : ['New York', 'Boston', 'Houston', 'new york', 'Philadelphia', np.nan, 'New York', 'Phoenix', 'Dallas', 'Boston', 'Philadelphia', 'New York'],\n        'Salary' : [85000, 105000, 88000, 90000, 56000, 58000, np.nan , 55000, 1000000, 105000, 56000, 110000],\n        'Fav.Color' : ['Blue', 'Red', 'Blue', 'Purple', 'Yellow', 'Green', 'Blue', 'Purple', 'Red', 'Purple', 'Green', 'Red']\n                  }\n\ndf = pd.DataFrame(data)\n\ndisplay(df)\n        ",
      "metadata": {
        "trusted": true
      },
      "execution_count": 1,
      "outputs": [
        {
          "name": "stderr",
          "text": "/lib/python3.9/site-packages/pandas/compat/__init__.py:124: UserWarning: Could not import the lzma module. Your installed Python is incomplete. Attempting to use lzma compression will result in a RuntimeError.\n  warnings.warn(msg)\n",
          "output_type": "stream"
        },
        {
          "output_type": "display_data",
          "data": {
            "text/plain": "       Name Age          State          City     Salary Fav.Color\n0     Steve  49       New York      New York    85000.0      Blue\n1      Dave  30  Massachusetts        Boston   105000.0       Red\n2     Susan  44          Texas       Houston    88000.0      Blue\n3      Mike  26       New York      new york    90000.0    Purple\n4     Alice  32   Pennsylvania  Philadelphia    56000.0    Yellow\n5       Bob  42          Idaho           NaN    58000.0     Green\n6     Sarah  45       New York      New York        NaN      Blue\n7    Nicole  53        Arizona       Phoenix    55000.0    Purple\n8   Heather  44          Texas        Dallas  1000000.0       Red\n9      Dave  30  Massachusetts        Boston   105000.0    Purple\n10    Alice  32   Pennsylvania  Philadelphia    56000.0     Green\n11     Alex  41       New York      New York   110000.0       Red",
            "text/html": "<div>\n<style scoped>\n    .dataframe tbody tr th:only-of-type {\n        vertical-align: middle;\n    }\n\n    .dataframe tbody tr th {\n        vertical-align: top;\n    }\n\n    .dataframe thead th {\n        text-align: right;\n    }\n</style>\n<table border=\"1\" class=\"dataframe\">\n  <thead>\n    <tr style=\"text-align: right;\">\n      <th></th>\n      <th>Name</th>\n      <th>Age</th>\n      <th>State</th>\n      <th>City</th>\n      <th>Salary</th>\n      <th>Fav.Color</th>\n    </tr>\n  </thead>\n  <tbody>\n    <tr>\n      <th>0</th>\n      <td>Steve</td>\n      <td>49</td>\n      <td>New York</td>\n      <td>New York</td>\n      <td>85000.0</td>\n      <td>Blue</td>\n    </tr>\n    <tr>\n      <th>1</th>\n      <td>Dave</td>\n      <td>30</td>\n      <td>Massachusetts</td>\n      <td>Boston</td>\n      <td>105000.0</td>\n      <td>Red</td>\n    </tr>\n    <tr>\n      <th>2</th>\n      <td>Susan</td>\n      <td>44</td>\n      <td>Texas</td>\n      <td>Houston</td>\n      <td>88000.0</td>\n      <td>Blue</td>\n    </tr>\n    <tr>\n      <th>3</th>\n      <td>Mike</td>\n      <td>26</td>\n      <td>New York</td>\n      <td>new york</td>\n      <td>90000.0</td>\n      <td>Purple</td>\n    </tr>\n    <tr>\n      <th>4</th>\n      <td>Alice</td>\n      <td>32</td>\n      <td>Pennsylvania</td>\n      <td>Philadelphia</td>\n      <td>56000.0</td>\n      <td>Yellow</td>\n    </tr>\n    <tr>\n      <th>5</th>\n      <td>Bob</td>\n      <td>42</td>\n      <td>Idaho</td>\n      <td>NaN</td>\n      <td>58000.0</td>\n      <td>Green</td>\n    </tr>\n    <tr>\n      <th>6</th>\n      <td>Sarah</td>\n      <td>45</td>\n      <td>New York</td>\n      <td>New York</td>\n      <td>NaN</td>\n      <td>Blue</td>\n    </tr>\n    <tr>\n      <th>7</th>\n      <td>Nicole</td>\n      <td>53</td>\n      <td>Arizona</td>\n      <td>Phoenix</td>\n      <td>55000.0</td>\n      <td>Purple</td>\n    </tr>\n    <tr>\n      <th>8</th>\n      <td>Heather</td>\n      <td>44</td>\n      <td>Texas</td>\n      <td>Dallas</td>\n      <td>1000000.0</td>\n      <td>Red</td>\n    </tr>\n    <tr>\n      <th>9</th>\n      <td>Dave</td>\n      <td>30</td>\n      <td>Massachusetts</td>\n      <td>Boston</td>\n      <td>105000.0</td>\n      <td>Purple</td>\n    </tr>\n    <tr>\n      <th>10</th>\n      <td>Alice</td>\n      <td>32</td>\n      <td>Pennsylvania</td>\n      <td>Philadelphia</td>\n      <td>56000.0</td>\n      <td>Green</td>\n    </tr>\n    <tr>\n      <th>11</th>\n      <td>Alex</td>\n      <td>41</td>\n      <td>New York</td>\n      <td>New York</td>\n      <td>110000.0</td>\n      <td>Red</td>\n    </tr>\n  </tbody>\n</table>\n</div>"
          },
          "metadata": {}
        }
      ]
    },
    {
      "cell_type": "markdown",
      "source": "## Converting Data Types\n\nSometimes our dataframe can have features that take on a data type that might not be what we need it to be. For this reason it's good practice to double check the datatypes of features within your dataset.  In our example above, the feature Age appears to be numeric at first glance, but running df.dtype shows us that its actually stored as an object and not an int.  We will need to change this features datatype in order to use it properly for our modeling\n",
      "metadata": {}
    },
    {
      "cell_type": "code",
      "source": "\n\nprint('===============================================================')\ndisplay(df)\nprint('===============================================================')\n\n\nprint('Data Types before conversion')\nprint(df.dtypes)\n\ndf['Age'] = df['Age'].astype(int)\n\nprint('')\nprint('Data Types after conversion')\nprint(df.dtypes)",
      "metadata": {
        "tags": [],
        "trusted": true
      },
      "execution_count": 2,
      "outputs": [
        {
          "name": "stdout",
          "text": "===============================================================\n",
          "output_type": "stream"
        },
        {
          "output_type": "display_data",
          "data": {
            "text/plain": "       Name Age          State          City     Salary Fav.Color\n0     Steve  49       New York      New York    85000.0      Blue\n1      Dave  30  Massachusetts        Boston   105000.0       Red\n2     Susan  44          Texas       Houston    88000.0      Blue\n3      Mike  26       New York      new york    90000.0    Purple\n4     Alice  32   Pennsylvania  Philadelphia    56000.0    Yellow\n5       Bob  42          Idaho           NaN    58000.0     Green\n6     Sarah  45       New York      New York        NaN      Blue\n7    Nicole  53        Arizona       Phoenix    55000.0    Purple\n8   Heather  44          Texas        Dallas  1000000.0       Red\n9      Dave  30  Massachusetts        Boston   105000.0    Purple\n10    Alice  32   Pennsylvania  Philadelphia    56000.0     Green\n11     Alex  41       New York      New York   110000.0       Red",
            "text/html": "<div>\n<style scoped>\n    .dataframe tbody tr th:only-of-type {\n        vertical-align: middle;\n    }\n\n    .dataframe tbody tr th {\n        vertical-align: top;\n    }\n\n    .dataframe thead th {\n        text-align: right;\n    }\n</style>\n<table border=\"1\" class=\"dataframe\">\n  <thead>\n    <tr style=\"text-align: right;\">\n      <th></th>\n      <th>Name</th>\n      <th>Age</th>\n      <th>State</th>\n      <th>City</th>\n      <th>Salary</th>\n      <th>Fav.Color</th>\n    </tr>\n  </thead>\n  <tbody>\n    <tr>\n      <th>0</th>\n      <td>Steve</td>\n      <td>49</td>\n      <td>New York</td>\n      <td>New York</td>\n      <td>85000.0</td>\n      <td>Blue</td>\n    </tr>\n    <tr>\n      <th>1</th>\n      <td>Dave</td>\n      <td>30</td>\n      <td>Massachusetts</td>\n      <td>Boston</td>\n      <td>105000.0</td>\n      <td>Red</td>\n    </tr>\n    <tr>\n      <th>2</th>\n      <td>Susan</td>\n      <td>44</td>\n      <td>Texas</td>\n      <td>Houston</td>\n      <td>88000.0</td>\n      <td>Blue</td>\n    </tr>\n    <tr>\n      <th>3</th>\n      <td>Mike</td>\n      <td>26</td>\n      <td>New York</td>\n      <td>new york</td>\n      <td>90000.0</td>\n      <td>Purple</td>\n    </tr>\n    <tr>\n      <th>4</th>\n      <td>Alice</td>\n      <td>32</td>\n      <td>Pennsylvania</td>\n      <td>Philadelphia</td>\n      <td>56000.0</td>\n      <td>Yellow</td>\n    </tr>\n    <tr>\n      <th>5</th>\n      <td>Bob</td>\n      <td>42</td>\n      <td>Idaho</td>\n      <td>NaN</td>\n      <td>58000.0</td>\n      <td>Green</td>\n    </tr>\n    <tr>\n      <th>6</th>\n      <td>Sarah</td>\n      <td>45</td>\n      <td>New York</td>\n      <td>New York</td>\n      <td>NaN</td>\n      <td>Blue</td>\n    </tr>\n    <tr>\n      <th>7</th>\n      <td>Nicole</td>\n      <td>53</td>\n      <td>Arizona</td>\n      <td>Phoenix</td>\n      <td>55000.0</td>\n      <td>Purple</td>\n    </tr>\n    <tr>\n      <th>8</th>\n      <td>Heather</td>\n      <td>44</td>\n      <td>Texas</td>\n      <td>Dallas</td>\n      <td>1000000.0</td>\n      <td>Red</td>\n    </tr>\n    <tr>\n      <th>9</th>\n      <td>Dave</td>\n      <td>30</td>\n      <td>Massachusetts</td>\n      <td>Boston</td>\n      <td>105000.0</td>\n      <td>Purple</td>\n    </tr>\n    <tr>\n      <th>10</th>\n      <td>Alice</td>\n      <td>32</td>\n      <td>Pennsylvania</td>\n      <td>Philadelphia</td>\n      <td>56000.0</td>\n      <td>Green</td>\n    </tr>\n    <tr>\n      <th>11</th>\n      <td>Alex</td>\n      <td>41</td>\n      <td>New York</td>\n      <td>New York</td>\n      <td>110000.0</td>\n      <td>Red</td>\n    </tr>\n  </tbody>\n</table>\n</div>"
          },
          "metadata": {}
        },
        {
          "name": "stdout",
          "text": "===============================================================\nData Types before conversion\nName          object\nAge           object\nState         object\nCity          object\nSalary       float64\nFav.Color     object\ndtype: object\n\nData Types after conversion\nName          object\nAge            int32\nState         object\nCity          object\nSalary       float64\nFav.Color     object\ndtype: object\n",
          "output_type": "stream"
        }
      ]
    },
    {
      "cell_type": "markdown",
      "source": "## String Manipulation\n\nAn important step in cleaning your data is checking for uniformity in your values.  As we explore the unique values in each column of our dataframe we can see that Mike's city entry isn't capitalized.  Unforunately, pandas isn't smart enough to recognize that Mike's city is the same as Sarah's, which means were going to have to alter his city entry.",
      "metadata": {}
    },
    {
      "cell_type": "code",
      "source": "df1 = df.copy()\n\n# The code below prints out all the unique values for each column which allows you to check for uniformity.\nprint('Unique Values for each column:')\nprint('===============================================================')\n\nfor col in df1:\n    print(df[col].unique())\n    \nprint('===============================================================')\nprint('')\n\ndf1['City'] = df1['City'].str.title()\n\nprint(\"We can see that Mike's City entry is now capatilized.\")\nprint('===============================================================')\ndisplay(df1)\n\n",
      "metadata": {
        "trusted": true
      },
      "execution_count": 3,
      "outputs": [
        {
          "name": "stdout",
          "text": "Unique Values for each column:\n===============================================================\n['Steve' 'Dave' 'Susan' 'Mike' 'Alice' 'Bob' 'Sarah' 'Nicole' 'Heather'\n 'Alex']\n[49 30 44 26 32 42 45 53 41]\n['New York' 'Massachusetts' 'Texas' 'Pennsylvania' 'Idaho' 'Arizona']\n['New York' 'Boston' 'Houston' 'new york' 'Philadelphia' nan 'Phoenix'\n 'Dallas']\n[  85000.  105000.   88000.   90000.   56000.   58000.      nan   55000.\n 1000000.  110000.]\n['Blue' 'Red' 'Purple' 'Yellow' 'Green']\n===============================================================\n\nWe can see that Mike's City entry is now capatilized.\n===============================================================\n",
          "output_type": "stream"
        },
        {
          "output_type": "display_data",
          "data": {
            "text/plain": "       Name  Age          State          City     Salary Fav.Color\n0     Steve   49       New York      New York    85000.0      Blue\n1      Dave   30  Massachusetts        Boston   105000.0       Red\n2     Susan   44          Texas       Houston    88000.0      Blue\n3      Mike   26       New York      New York    90000.0    Purple\n4     Alice   32   Pennsylvania  Philadelphia    56000.0    Yellow\n5       Bob   42          Idaho           NaN    58000.0     Green\n6     Sarah   45       New York      New York        NaN      Blue\n7    Nicole   53        Arizona       Phoenix    55000.0    Purple\n8   Heather   44          Texas        Dallas  1000000.0       Red\n9      Dave   30  Massachusetts        Boston   105000.0    Purple\n10    Alice   32   Pennsylvania  Philadelphia    56000.0     Green\n11     Alex   41       New York      New York   110000.0       Red",
            "text/html": "<div>\n<style scoped>\n    .dataframe tbody tr th:only-of-type {\n        vertical-align: middle;\n    }\n\n    .dataframe tbody tr th {\n        vertical-align: top;\n    }\n\n    .dataframe thead th {\n        text-align: right;\n    }\n</style>\n<table border=\"1\" class=\"dataframe\">\n  <thead>\n    <tr style=\"text-align: right;\">\n      <th></th>\n      <th>Name</th>\n      <th>Age</th>\n      <th>State</th>\n      <th>City</th>\n      <th>Salary</th>\n      <th>Fav.Color</th>\n    </tr>\n  </thead>\n  <tbody>\n    <tr>\n      <th>0</th>\n      <td>Steve</td>\n      <td>49</td>\n      <td>New York</td>\n      <td>New York</td>\n      <td>85000.0</td>\n      <td>Blue</td>\n    </tr>\n    <tr>\n      <th>1</th>\n      <td>Dave</td>\n      <td>30</td>\n      <td>Massachusetts</td>\n      <td>Boston</td>\n      <td>105000.0</td>\n      <td>Red</td>\n    </tr>\n    <tr>\n      <th>2</th>\n      <td>Susan</td>\n      <td>44</td>\n      <td>Texas</td>\n      <td>Houston</td>\n      <td>88000.0</td>\n      <td>Blue</td>\n    </tr>\n    <tr>\n      <th>3</th>\n      <td>Mike</td>\n      <td>26</td>\n      <td>New York</td>\n      <td>New York</td>\n      <td>90000.0</td>\n      <td>Purple</td>\n    </tr>\n    <tr>\n      <th>4</th>\n      <td>Alice</td>\n      <td>32</td>\n      <td>Pennsylvania</td>\n      <td>Philadelphia</td>\n      <td>56000.0</td>\n      <td>Yellow</td>\n    </tr>\n    <tr>\n      <th>5</th>\n      <td>Bob</td>\n      <td>42</td>\n      <td>Idaho</td>\n      <td>NaN</td>\n      <td>58000.0</td>\n      <td>Green</td>\n    </tr>\n    <tr>\n      <th>6</th>\n      <td>Sarah</td>\n      <td>45</td>\n      <td>New York</td>\n      <td>New York</td>\n      <td>NaN</td>\n      <td>Blue</td>\n    </tr>\n    <tr>\n      <th>7</th>\n      <td>Nicole</td>\n      <td>53</td>\n      <td>Arizona</td>\n      <td>Phoenix</td>\n      <td>55000.0</td>\n      <td>Purple</td>\n    </tr>\n    <tr>\n      <th>8</th>\n      <td>Heather</td>\n      <td>44</td>\n      <td>Texas</td>\n      <td>Dallas</td>\n      <td>1000000.0</td>\n      <td>Red</td>\n    </tr>\n    <tr>\n      <th>9</th>\n      <td>Dave</td>\n      <td>30</td>\n      <td>Massachusetts</td>\n      <td>Boston</td>\n      <td>105000.0</td>\n      <td>Purple</td>\n    </tr>\n    <tr>\n      <th>10</th>\n      <td>Alice</td>\n      <td>32</td>\n      <td>Pennsylvania</td>\n      <td>Philadelphia</td>\n      <td>56000.0</td>\n      <td>Green</td>\n    </tr>\n    <tr>\n      <th>11</th>\n      <td>Alex</td>\n      <td>41</td>\n      <td>New York</td>\n      <td>New York</td>\n      <td>110000.0</td>\n      <td>Red</td>\n    </tr>\n  </tbody>\n</table>\n</div>"
          },
          "metadata": {}
        }
      ]
    },
    {
      "cell_type": "markdown",
      "source": "## Missing Data\n\nA common issue you might run into with your dataset is columns that have missing values.  There are several ways to handle this and below we will tackle two common methods.  As we can see in the dataframe above both Sarah's salary and Bob's city are missing.  In the case of Sarah's salary, given the fact that all these observations are salaries of data scientists, we can impute her salary by taking the average of other individuals who live in her city.  This isn't always the best move to do and requires domain knowledge to understand if its appropriate to do so.  In Bob's case, there is no real way to impute his City so we will drop his observation all together.",
      "metadata": {
        "tags": []
      }
    },
    {
      "cell_type": "code",
      "source": "df2 = df1.copy()\n\n#This code checks if there is any null values in our dataframe:\nprint('Below is the number of null values for each column')\nprint('===============')\ndisplay(df2.isnull().values.any())\n\n#This code tallies the number of null values per column.\ndisplay(df2.isnull().sum())\n\n#This code imputes Sarah's salary by averaging the salaries of other observations who are also from New York\ndf2['Salary'] = df2['Salary'].fillna(df2.groupby('City')['Salary'].transform('mean')).astype(int)\n\nprint('')\nprint(\"Below we can see Sarah's salary has been imputed as an average \\nof other data scientists from New York.\")\nprint('===============================================================')\ndisplay(df2)\nprint('')\n\n# The code below drops Bob due to his missing city.  If we forget to reset_index then the index will have a missing value and go 3,4,6 instead of 3,4,5\n\ndf2 = df2.dropna(subset= ['City'])\ndf2.reset_index(drop=True, inplace = True)\nprint(\"Below we can see Bob's row is removed.\")\nprint('===============================================================')\ndisplay(df2)\n",
      "metadata": {
        "trusted": true
      },
      "execution_count": 4,
      "outputs": [
        {
          "name": "stdout",
          "text": "Below is the number of null values for each column\n===============\n",
          "output_type": "stream"
        },
        {
          "output_type": "display_data",
          "data": {
            "text/plain": "True"
          },
          "metadata": {}
        },
        {
          "output_type": "display_data",
          "data": {
            "text/plain": "Name         0\nAge          0\nState        0\nCity         1\nSalary       1\nFav.Color    0\ndtype: int64"
          },
          "metadata": {}
        },
        {
          "name": "stdout",
          "text": "",
          "output_type": "stream"
        },
        {
          "name": "stdout",
          "text": "\nBelow we can see Sarah's salary has been imputed as an average \nof other data scientists from New York.\n===============================================================\n",
          "output_type": "stream"
        },
        {
          "output_type": "display_data",
          "data": {
            "text/plain": "       Name  Age          State          City   Salary Fav.Color\n0     Steve   49       New York      New York    85000      Blue\n1      Dave   30  Massachusetts        Boston   105000       Red\n2     Susan   44          Texas       Houston    88000      Blue\n3      Mike   26       New York      New York    90000    Purple\n4     Alice   32   Pennsylvania  Philadelphia    56000    Yellow\n5       Bob   42          Idaho           NaN    58000     Green\n6     Sarah   45       New York      New York    95000      Blue\n7    Nicole   53        Arizona       Phoenix    55000    Purple\n8   Heather   44          Texas        Dallas  1000000       Red\n9      Dave   30  Massachusetts        Boston   105000    Purple\n10    Alice   32   Pennsylvania  Philadelphia    56000     Green\n11     Alex   41       New York      New York   110000       Red",
            "text/html": "<div>\n<style scoped>\n    .dataframe tbody tr th:only-of-type {\n        vertical-align: middle;\n    }\n\n    .dataframe tbody tr th {\n        vertical-align: top;\n    }\n\n    .dataframe thead th {\n        text-align: right;\n    }\n</style>\n<table border=\"1\" class=\"dataframe\">\n  <thead>\n    <tr style=\"text-align: right;\">\n      <th></th>\n      <th>Name</th>\n      <th>Age</th>\n      <th>State</th>\n      <th>City</th>\n      <th>Salary</th>\n      <th>Fav.Color</th>\n    </tr>\n  </thead>\n  <tbody>\n    <tr>\n      <th>0</th>\n      <td>Steve</td>\n      <td>49</td>\n      <td>New York</td>\n      <td>New York</td>\n      <td>85000</td>\n      <td>Blue</td>\n    </tr>\n    <tr>\n      <th>1</th>\n      <td>Dave</td>\n      <td>30</td>\n      <td>Massachusetts</td>\n      <td>Boston</td>\n      <td>105000</td>\n      <td>Red</td>\n    </tr>\n    <tr>\n      <th>2</th>\n      <td>Susan</td>\n      <td>44</td>\n      <td>Texas</td>\n      <td>Houston</td>\n      <td>88000</td>\n      <td>Blue</td>\n    </tr>\n    <tr>\n      <th>3</th>\n      <td>Mike</td>\n      <td>26</td>\n      <td>New York</td>\n      <td>New York</td>\n      <td>90000</td>\n      <td>Purple</td>\n    </tr>\n    <tr>\n      <th>4</th>\n      <td>Alice</td>\n      <td>32</td>\n      <td>Pennsylvania</td>\n      <td>Philadelphia</td>\n      <td>56000</td>\n      <td>Yellow</td>\n    </tr>\n    <tr>\n      <th>5</th>\n      <td>Bob</td>\n      <td>42</td>\n      <td>Idaho</td>\n      <td>NaN</td>\n      <td>58000</td>\n      <td>Green</td>\n    </tr>\n    <tr>\n      <th>6</th>\n      <td>Sarah</td>\n      <td>45</td>\n      <td>New York</td>\n      <td>New York</td>\n      <td>95000</td>\n      <td>Blue</td>\n    </tr>\n    <tr>\n      <th>7</th>\n      <td>Nicole</td>\n      <td>53</td>\n      <td>Arizona</td>\n      <td>Phoenix</td>\n      <td>55000</td>\n      <td>Purple</td>\n    </tr>\n    <tr>\n      <th>8</th>\n      <td>Heather</td>\n      <td>44</td>\n      <td>Texas</td>\n      <td>Dallas</td>\n      <td>1000000</td>\n      <td>Red</td>\n    </tr>\n    <tr>\n      <th>9</th>\n      <td>Dave</td>\n      <td>30</td>\n      <td>Massachusetts</td>\n      <td>Boston</td>\n      <td>105000</td>\n      <td>Purple</td>\n    </tr>\n    <tr>\n      <th>10</th>\n      <td>Alice</td>\n      <td>32</td>\n      <td>Pennsylvania</td>\n      <td>Philadelphia</td>\n      <td>56000</td>\n      <td>Green</td>\n    </tr>\n    <tr>\n      <th>11</th>\n      <td>Alex</td>\n      <td>41</td>\n      <td>New York</td>\n      <td>New York</td>\n      <td>110000</td>\n      <td>Red</td>\n    </tr>\n  </tbody>\n</table>\n</div>"
          },
          "metadata": {}
        },
        {
          "name": "stdout",
          "text": "",
          "output_type": "stream"
        },
        {
          "name": "stdout",
          "text": "\nBelow we can see Bob's row is removed.\n===============================================================\n",
          "output_type": "stream"
        },
        {
          "output_type": "display_data",
          "data": {
            "text/plain": "       Name  Age          State          City   Salary Fav.Color\n0     Steve   49       New York      New York    85000      Blue\n1      Dave   30  Massachusetts        Boston   105000       Red\n2     Susan   44          Texas       Houston    88000      Blue\n3      Mike   26       New York      New York    90000    Purple\n4     Alice   32   Pennsylvania  Philadelphia    56000    Yellow\n5     Sarah   45       New York      New York    95000      Blue\n6    Nicole   53        Arizona       Phoenix    55000    Purple\n7   Heather   44          Texas        Dallas  1000000       Red\n8      Dave   30  Massachusetts        Boston   105000    Purple\n9     Alice   32   Pennsylvania  Philadelphia    56000     Green\n10     Alex   41       New York      New York   110000       Red",
            "text/html": "<div>\n<style scoped>\n    .dataframe tbody tr th:only-of-type {\n        vertical-align: middle;\n    }\n\n    .dataframe tbody tr th {\n        vertical-align: top;\n    }\n\n    .dataframe thead th {\n        text-align: right;\n    }\n</style>\n<table border=\"1\" class=\"dataframe\">\n  <thead>\n    <tr style=\"text-align: right;\">\n      <th></th>\n      <th>Name</th>\n      <th>Age</th>\n      <th>State</th>\n      <th>City</th>\n      <th>Salary</th>\n      <th>Fav.Color</th>\n    </tr>\n  </thead>\n  <tbody>\n    <tr>\n      <th>0</th>\n      <td>Steve</td>\n      <td>49</td>\n      <td>New York</td>\n      <td>New York</td>\n      <td>85000</td>\n      <td>Blue</td>\n    </tr>\n    <tr>\n      <th>1</th>\n      <td>Dave</td>\n      <td>30</td>\n      <td>Massachusetts</td>\n      <td>Boston</td>\n      <td>105000</td>\n      <td>Red</td>\n    </tr>\n    <tr>\n      <th>2</th>\n      <td>Susan</td>\n      <td>44</td>\n      <td>Texas</td>\n      <td>Houston</td>\n      <td>88000</td>\n      <td>Blue</td>\n    </tr>\n    <tr>\n      <th>3</th>\n      <td>Mike</td>\n      <td>26</td>\n      <td>New York</td>\n      <td>New York</td>\n      <td>90000</td>\n      <td>Purple</td>\n    </tr>\n    <tr>\n      <th>4</th>\n      <td>Alice</td>\n      <td>32</td>\n      <td>Pennsylvania</td>\n      <td>Philadelphia</td>\n      <td>56000</td>\n      <td>Yellow</td>\n    </tr>\n    <tr>\n      <th>5</th>\n      <td>Sarah</td>\n      <td>45</td>\n      <td>New York</td>\n      <td>New York</td>\n      <td>95000</td>\n      <td>Blue</td>\n    </tr>\n    <tr>\n      <th>6</th>\n      <td>Nicole</td>\n      <td>53</td>\n      <td>Arizona</td>\n      <td>Phoenix</td>\n      <td>55000</td>\n      <td>Purple</td>\n    </tr>\n    <tr>\n      <th>7</th>\n      <td>Heather</td>\n      <td>44</td>\n      <td>Texas</td>\n      <td>Dallas</td>\n      <td>1000000</td>\n      <td>Red</td>\n    </tr>\n    <tr>\n      <th>8</th>\n      <td>Dave</td>\n      <td>30</td>\n      <td>Massachusetts</td>\n      <td>Boston</td>\n      <td>105000</td>\n      <td>Purple</td>\n    </tr>\n    <tr>\n      <th>9</th>\n      <td>Alice</td>\n      <td>32</td>\n      <td>Pennsylvania</td>\n      <td>Philadelphia</td>\n      <td>56000</td>\n      <td>Green</td>\n    </tr>\n    <tr>\n      <th>10</th>\n      <td>Alex</td>\n      <td>41</td>\n      <td>New York</td>\n      <td>New York</td>\n      <td>110000</td>\n      <td>Red</td>\n    </tr>\n  </tbody>\n</table>\n</div>"
          },
          "metadata": {}
        }
      ]
    },
    {
      "cell_type": "markdown",
      "source": "## Irrelevant Data\n\nThere will be times when you either have more information than you need or some of the information you have just isn't relevant to your task.  In our dummy dataset we can see that there is a column that lists each person's favorite color.  This is irrelevant data that would actually negatively affect our modeling building",
      "metadata": {}
    },
    {
      "cell_type": "code",
      "source": "df3 = df2.copy()\n\ndf3 = df3.drop(columns = 'Fav.Color')\n\nprint('We can see that Fav.Color is now no longer in our dataframe')\nprint('===============================================================')\ndisplay(df3)\n",
      "metadata": {
        "trusted": true
      },
      "execution_count": 5,
      "outputs": [
        {
          "name": "stdout",
          "text": "We can see that Fav.Color is now no longer in our dataframe\n===============================================================\n",
          "output_type": "stream"
        },
        {
          "output_type": "display_data",
          "data": {
            "text/plain": "       Name  Age          State          City   Salary\n0     Steve   49       New York      New York    85000\n1      Dave   30  Massachusetts        Boston   105000\n2     Susan   44          Texas       Houston    88000\n3      Mike   26       New York      New York    90000\n4     Alice   32   Pennsylvania  Philadelphia    56000\n5     Sarah   45       New York      New York    95000\n6    Nicole   53        Arizona       Phoenix    55000\n7   Heather   44          Texas        Dallas  1000000\n8      Dave   30  Massachusetts        Boston   105000\n9     Alice   32   Pennsylvania  Philadelphia    56000\n10     Alex   41       New York      New York   110000",
            "text/html": "<div>\n<style scoped>\n    .dataframe tbody tr th:only-of-type {\n        vertical-align: middle;\n    }\n\n    .dataframe tbody tr th {\n        vertical-align: top;\n    }\n\n    .dataframe thead th {\n        text-align: right;\n    }\n</style>\n<table border=\"1\" class=\"dataframe\">\n  <thead>\n    <tr style=\"text-align: right;\">\n      <th></th>\n      <th>Name</th>\n      <th>Age</th>\n      <th>State</th>\n      <th>City</th>\n      <th>Salary</th>\n    </tr>\n  </thead>\n  <tbody>\n    <tr>\n      <th>0</th>\n      <td>Steve</td>\n      <td>49</td>\n      <td>New York</td>\n      <td>New York</td>\n      <td>85000</td>\n    </tr>\n    <tr>\n      <th>1</th>\n      <td>Dave</td>\n      <td>30</td>\n      <td>Massachusetts</td>\n      <td>Boston</td>\n      <td>105000</td>\n    </tr>\n    <tr>\n      <th>2</th>\n      <td>Susan</td>\n      <td>44</td>\n      <td>Texas</td>\n      <td>Houston</td>\n      <td>88000</td>\n    </tr>\n    <tr>\n      <th>3</th>\n      <td>Mike</td>\n      <td>26</td>\n      <td>New York</td>\n      <td>New York</td>\n      <td>90000</td>\n    </tr>\n    <tr>\n      <th>4</th>\n      <td>Alice</td>\n      <td>32</td>\n      <td>Pennsylvania</td>\n      <td>Philadelphia</td>\n      <td>56000</td>\n    </tr>\n    <tr>\n      <th>5</th>\n      <td>Sarah</td>\n      <td>45</td>\n      <td>New York</td>\n      <td>New York</td>\n      <td>95000</td>\n    </tr>\n    <tr>\n      <th>6</th>\n      <td>Nicole</td>\n      <td>53</td>\n      <td>Arizona</td>\n      <td>Phoenix</td>\n      <td>55000</td>\n    </tr>\n    <tr>\n      <th>7</th>\n      <td>Heather</td>\n      <td>44</td>\n      <td>Texas</td>\n      <td>Dallas</td>\n      <td>1000000</td>\n    </tr>\n    <tr>\n      <th>8</th>\n      <td>Dave</td>\n      <td>30</td>\n      <td>Massachusetts</td>\n      <td>Boston</td>\n      <td>105000</td>\n    </tr>\n    <tr>\n      <th>9</th>\n      <td>Alice</td>\n      <td>32</td>\n      <td>Pennsylvania</td>\n      <td>Philadelphia</td>\n      <td>56000</td>\n    </tr>\n    <tr>\n      <th>10</th>\n      <td>Alex</td>\n      <td>41</td>\n      <td>New York</td>\n      <td>New York</td>\n      <td>110000</td>\n    </tr>\n  </tbody>\n</table>\n</div>"
          },
          "metadata": {}
        }
      ]
    },
    {
      "cell_type": "markdown",
      "source": "## Outliers\n\nSometimes a column in your dataset will have values that are so extreme that it will hinder your models ability to pick up the best signal possible.  For this scenario we can begin with a summary level of all columns with numeric data types. (We use .select_dtypes to increase readability by removing excessive trailing zeros).  Next, we parse through all columns with numeric data to return any values that our outside of 3 standard deviations of the columns mean.  As we can see, Heather's salary of $1,000,000 is an outlier in the Salary column.  How do we handle this outlier?  Well there are a few remedies:\n\n1. Delete the observation\n2. Implement a floor/ceiling for all values within the column\n3. Impute the mean/median value inplace of the outlier.\n\nDeleting the observation is an option but not advisable.  It's not a great practice to reduce the size of your dataset when other options are available.  Heather's information in all other columns could be useful which means depriving our model of his information could negatively affect its performance.\n\nImplementing a floor/ceiling is a viable option that takes outliers and replaces their value with the 10th or 90th percentile value depending if the extreme value is below or above the mean.  When doing this its important to note how many observations are being changed.  If its a significant portion of the dataset then you may run into issues where your model is built off of an innaccurate set of data.\n\nImputing the mean/median value for the outlier is very similar to the floor/ceiling situation.  It's better than flatout removing the observation, granted that your not doing this to a large portion of your data.  By imputing the mean you are adding additional weight to the mean value which may have unintended consequences.  Business context is important for this decision.\n\nWe have already demonstrated how to remove observations so below we will walk through how to set a floor/ceiling and impute the mean/median.  \n",
      "metadata": {}
    },
    {
      "cell_type": "code",
      "source": "\ndef detect_outliers_zscore(data, name):\n    thres = 3\n    mean = np.mean(data)\n    std = np.std(data)\n    # print(mean, std)\n    for i in data:\n        z_score = (i-mean)/std\n        if (np.abs(z_score) > thres):\n            print(name + ' | ' + str(i) + ' is an outlier')\n\ndef floor_ceiling(data):\n    for col in data:\n        if np.issubdtype(data[col], np.number):\n            tenth_percentile = np.percentile(data[col], 10)\n            ninetieth_percentile = np.percentile(data[col], 90)\n            upper = data[col] > ninetieth_percentile\n            lower = data[col] < tenth_percentile\n            data.loc[upper, col] = ninetieth_percentile\n            data.loc[lower, col] = tenth_percentile\n\n    \ndef impute_mean(data):\n    for col in data:\n        if np.issubdtype(data[col], np.number):\n            thres = 3\n            mean = np.mean(data[col])\n            std = np.std(data[col])\n            for i in data[col]:\n                z_score = (i-mean)/std\n                if z_score > thres: \n                    data[col].loc[data[col] == i ] = mean.astype(np.int64)\n                \n                \n                \n                    \n\ndf4 = df3.copy()\n\n# Display original df\ndisplay(df4)\n\n# display summary level statistics for each numerical feature\nprint(df4.describe().astype(np.int64))\n\n# The code below prints out a warning if there is an observation that falls outside of 3 SD.\n[detect_outliers_zscore(df4_num[i], str(i)) for i in df4_num.columns]\n\nprint('')\nprint('===============================================================')\n\n\n\n\n\n# The code below sets a 10% and 90% cap on values. Notice that we are using the columns in df4_num to alter the information in df4_floor\n\n# Create new dataframe to manipulate\ndf4_floor = df4.copy()\n\n#Apply function\nfloor_ceiling(df4_floor)\n    \n\nprint(\"Below is df4 with floor/ceiling on Heather's salary\")\nprint('===============================================================')\ndisplay(df4_floor)\nprint('')\n\n\n# Create new dataframe to manipulate\ndf4_mean = df4.copy()\n\n#Apply function\nimpute_mean(df4_mean)\n\nprint('===============================================================')\nprint(\"Below is df4 with an imputed mean of all salary values on Heather's salary\")\nprint('===============================================================')\ndisplay(df4_mean)\nprint('')\n\n",
      "metadata": {
        "trusted": true
      },
      "execution_count": 10,
      "outputs": [
        {
          "output_type": "display_data",
          "data": {
            "text/plain": "       Name  Age          State          City   Salary\n0     Steve   49       New York      New York    85000\n1      Dave   30  Massachusetts        Boston   105000\n2     Susan   44          Texas       Houston    88000\n3      Mike   26       New York      New York    90000\n4     Alice   32   Pennsylvania  Philadelphia    56000\n5     Sarah   45       New York      New York    95000\n6    Nicole   53        Arizona       Phoenix    55000\n7   Heather   44          Texas        Dallas  1000000\n8      Dave   30  Massachusetts        Boston   105000\n9     Alice   32   Pennsylvania  Philadelphia    56000\n10     Alex   41       New York      New York   110000",
            "text/html": "<div>\n<style scoped>\n    .dataframe tbody tr th:only-of-type {\n        vertical-align: middle;\n    }\n\n    .dataframe tbody tr th {\n        vertical-align: top;\n    }\n\n    .dataframe thead th {\n        text-align: right;\n    }\n</style>\n<table border=\"1\" class=\"dataframe\">\n  <thead>\n    <tr style=\"text-align: right;\">\n      <th></th>\n      <th>Name</th>\n      <th>Age</th>\n      <th>State</th>\n      <th>City</th>\n      <th>Salary</th>\n    </tr>\n  </thead>\n  <tbody>\n    <tr>\n      <th>0</th>\n      <td>Steve</td>\n      <td>49</td>\n      <td>New York</td>\n      <td>New York</td>\n      <td>85000</td>\n    </tr>\n    <tr>\n      <th>1</th>\n      <td>Dave</td>\n      <td>30</td>\n      <td>Massachusetts</td>\n      <td>Boston</td>\n      <td>105000</td>\n    </tr>\n    <tr>\n      <th>2</th>\n      <td>Susan</td>\n      <td>44</td>\n      <td>Texas</td>\n      <td>Houston</td>\n      <td>88000</td>\n    </tr>\n    <tr>\n      <th>3</th>\n      <td>Mike</td>\n      <td>26</td>\n      <td>New York</td>\n      <td>New York</td>\n      <td>90000</td>\n    </tr>\n    <tr>\n      <th>4</th>\n      <td>Alice</td>\n      <td>32</td>\n      <td>Pennsylvania</td>\n      <td>Philadelphia</td>\n      <td>56000</td>\n    </tr>\n    <tr>\n      <th>5</th>\n      <td>Sarah</td>\n      <td>45</td>\n      <td>New York</td>\n      <td>New York</td>\n      <td>95000</td>\n    </tr>\n    <tr>\n      <th>6</th>\n      <td>Nicole</td>\n      <td>53</td>\n      <td>Arizona</td>\n      <td>Phoenix</td>\n      <td>55000</td>\n    </tr>\n    <tr>\n      <th>7</th>\n      <td>Heather</td>\n      <td>44</td>\n      <td>Texas</td>\n      <td>Dallas</td>\n      <td>1000000</td>\n    </tr>\n    <tr>\n      <th>8</th>\n      <td>Dave</td>\n      <td>30</td>\n      <td>Massachusetts</td>\n      <td>Boston</td>\n      <td>105000</td>\n    </tr>\n    <tr>\n      <th>9</th>\n      <td>Alice</td>\n      <td>32</td>\n      <td>Pennsylvania</td>\n      <td>Philadelphia</td>\n      <td>56000</td>\n    </tr>\n    <tr>\n      <th>10</th>\n      <td>Alex</td>\n      <td>41</td>\n      <td>New York</td>\n      <td>New York</td>\n      <td>110000</td>\n    </tr>\n  </tbody>\n</table>\n</div>"
          },
          "metadata": {}
        },
        {
          "name": "stdout",
          "text": "       Age   Salary\ncount   11       11\nmean    38   167727\nstd      9   276782\nmin     26    55000\n25%     31    70500\n50%     41    90000\n75%     44   105000\nmax     53  1000000\nSalary | 1000000 is an outlier\n\n===============================================================\nBelow is df4 with floor/ceiling on Dave's salary\n===============================================================\n",
          "output_type": "stream"
        },
        {
          "output_type": "display_data",
          "data": {
            "text/plain": "       Name  Age          State          City  Salary\n0     Steve   49       New York      New York   85000\n1      Dave   30  Massachusetts        Boston  105000\n2     Susan   44          Texas       Houston   88000\n3      Mike   30       New York      New York   90000\n4     Alice   32   Pennsylvania  Philadelphia   56000\n5     Sarah   45       New York      New York   95000\n6    Nicole   49        Arizona       Phoenix   56000\n7   Heather   44          Texas        Dallas  110000\n8      Dave   30  Massachusetts        Boston  105000\n9     Alice   32   Pennsylvania  Philadelphia   56000\n10     Alex   41       New York      New York  110000",
            "text/html": "<div>\n<style scoped>\n    .dataframe tbody tr th:only-of-type {\n        vertical-align: middle;\n    }\n\n    .dataframe tbody tr th {\n        vertical-align: top;\n    }\n\n    .dataframe thead th {\n        text-align: right;\n    }\n</style>\n<table border=\"1\" class=\"dataframe\">\n  <thead>\n    <tr style=\"text-align: right;\">\n      <th></th>\n      <th>Name</th>\n      <th>Age</th>\n      <th>State</th>\n      <th>City</th>\n      <th>Salary</th>\n    </tr>\n  </thead>\n  <tbody>\n    <tr>\n      <th>0</th>\n      <td>Steve</td>\n      <td>49</td>\n      <td>New York</td>\n      <td>New York</td>\n      <td>85000</td>\n    </tr>\n    <tr>\n      <th>1</th>\n      <td>Dave</td>\n      <td>30</td>\n      <td>Massachusetts</td>\n      <td>Boston</td>\n      <td>105000</td>\n    </tr>\n    <tr>\n      <th>2</th>\n      <td>Susan</td>\n      <td>44</td>\n      <td>Texas</td>\n      <td>Houston</td>\n      <td>88000</td>\n    </tr>\n    <tr>\n      <th>3</th>\n      <td>Mike</td>\n      <td>30</td>\n      <td>New York</td>\n      <td>New York</td>\n      <td>90000</td>\n    </tr>\n    <tr>\n      <th>4</th>\n      <td>Alice</td>\n      <td>32</td>\n      <td>Pennsylvania</td>\n      <td>Philadelphia</td>\n      <td>56000</td>\n    </tr>\n    <tr>\n      <th>5</th>\n      <td>Sarah</td>\n      <td>45</td>\n      <td>New York</td>\n      <td>New York</td>\n      <td>95000</td>\n    </tr>\n    <tr>\n      <th>6</th>\n      <td>Nicole</td>\n      <td>49</td>\n      <td>Arizona</td>\n      <td>Phoenix</td>\n      <td>56000</td>\n    </tr>\n    <tr>\n      <th>7</th>\n      <td>Heather</td>\n      <td>44</td>\n      <td>Texas</td>\n      <td>Dallas</td>\n      <td>110000</td>\n    </tr>\n    <tr>\n      <th>8</th>\n      <td>Dave</td>\n      <td>30</td>\n      <td>Massachusetts</td>\n      <td>Boston</td>\n      <td>105000</td>\n    </tr>\n    <tr>\n      <th>9</th>\n      <td>Alice</td>\n      <td>32</td>\n      <td>Pennsylvania</td>\n      <td>Philadelphia</td>\n      <td>56000</td>\n    </tr>\n    <tr>\n      <th>10</th>\n      <td>Alex</td>\n      <td>41</td>\n      <td>New York</td>\n      <td>New York</td>\n      <td>110000</td>\n    </tr>\n  </tbody>\n</table>\n</div>"
          },
          "metadata": {}
        },
        {
          "name": "stdout",
          "text": "",
          "output_type": "stream"
        },
        {
          "name": "stdout",
          "text": "\n===============================================================\nBelow is df4 with an imputed mean of all salary values on Dave's salary\n===============================================================\n",
          "output_type": "stream"
        },
        {
          "output_type": "display_data",
          "data": {
            "text/plain": "       Name  Age          State          City  Salary\n0     Steve   49       New York      New York   85000\n1      Dave   30  Massachusetts        Boston  105000\n2     Susan   44          Texas       Houston   88000\n3      Mike   26       New York      New York   90000\n4     Alice   32   Pennsylvania  Philadelphia   56000\n5     Sarah   45       New York      New York   95000\n6    Nicole   53        Arizona       Phoenix   55000\n7   Heather   44          Texas        Dallas  167727\n8      Dave   30  Massachusetts        Boston  105000\n9     Alice   32   Pennsylvania  Philadelphia   56000\n10     Alex   41       New York      New York  110000",
            "text/html": "<div>\n<style scoped>\n    .dataframe tbody tr th:only-of-type {\n        vertical-align: middle;\n    }\n\n    .dataframe tbody tr th {\n        vertical-align: top;\n    }\n\n    .dataframe thead th {\n        text-align: right;\n    }\n</style>\n<table border=\"1\" class=\"dataframe\">\n  <thead>\n    <tr style=\"text-align: right;\">\n      <th></th>\n      <th>Name</th>\n      <th>Age</th>\n      <th>State</th>\n      <th>City</th>\n      <th>Salary</th>\n    </tr>\n  </thead>\n  <tbody>\n    <tr>\n      <th>0</th>\n      <td>Steve</td>\n      <td>49</td>\n      <td>New York</td>\n      <td>New York</td>\n      <td>85000</td>\n    </tr>\n    <tr>\n      <th>1</th>\n      <td>Dave</td>\n      <td>30</td>\n      <td>Massachusetts</td>\n      <td>Boston</td>\n      <td>105000</td>\n    </tr>\n    <tr>\n      <th>2</th>\n      <td>Susan</td>\n      <td>44</td>\n      <td>Texas</td>\n      <td>Houston</td>\n      <td>88000</td>\n    </tr>\n    <tr>\n      <th>3</th>\n      <td>Mike</td>\n      <td>26</td>\n      <td>New York</td>\n      <td>New York</td>\n      <td>90000</td>\n    </tr>\n    <tr>\n      <th>4</th>\n      <td>Alice</td>\n      <td>32</td>\n      <td>Pennsylvania</td>\n      <td>Philadelphia</td>\n      <td>56000</td>\n    </tr>\n    <tr>\n      <th>5</th>\n      <td>Sarah</td>\n      <td>45</td>\n      <td>New York</td>\n      <td>New York</td>\n      <td>95000</td>\n    </tr>\n    <tr>\n      <th>6</th>\n      <td>Nicole</td>\n      <td>53</td>\n      <td>Arizona</td>\n      <td>Phoenix</td>\n      <td>55000</td>\n    </tr>\n    <tr>\n      <th>7</th>\n      <td>Heather</td>\n      <td>44</td>\n      <td>Texas</td>\n      <td>Dallas</td>\n      <td>167727</td>\n    </tr>\n    <tr>\n      <th>8</th>\n      <td>Dave</td>\n      <td>30</td>\n      <td>Massachusetts</td>\n      <td>Boston</td>\n      <td>105000</td>\n    </tr>\n    <tr>\n      <th>9</th>\n      <td>Alice</td>\n      <td>32</td>\n      <td>Pennsylvania</td>\n      <td>Philadelphia</td>\n      <td>56000</td>\n    </tr>\n    <tr>\n      <th>10</th>\n      <td>Alex</td>\n      <td>41</td>\n      <td>New York</td>\n      <td>New York</td>\n      <td>110000</td>\n    </tr>\n  </tbody>\n</table>\n</div>"
          },
          "metadata": {}
        },
        {
          "name": "stdout",
          "text": "",
          "output_type": "stream"
        },
        {
          "name": "stdout",
          "text": "\n",
          "output_type": "stream"
        }
      ]
    },
    {
      "cell_type": "markdown",
      "source": "## Duplicate Rows\n\nWhen removing duplicate rows from a dataframe we can use .drop_duplicates.  This function has a parameter \"subset\" which allows for multiple columns to be considering when looking for duplicates.  This helps us avoid removing data that repeats in a single column but has unique values in others.  Analyzing the dataset for the features that are most likely to indicate uniqueness can help to figure out which columns to check for matches on.  In our case we use Name, City, and Salary to filter the duplicate values for Dave from Boston and Alice from Pennsylvania.",
      "metadata": {}
    },
    {
      "cell_type": "code",
      "source": "df5 = df4_mean.copy()\n\ndf5 = df5.drop_duplicates(subset=['Name', 'City', 'Salary'])\n\ndf5.reset_index(drop=True, inplace = True)\n\ndisplay(df5)",
      "metadata": {
        "trusted": true
      },
      "execution_count": 7,
      "outputs": [
        {
          "output_type": "display_data",
          "data": {
            "text/plain": "      Name  Age          State          City  Salary\n0    Steve   49       New York      New York   85000\n1     Dave   30  Massachusetts        Boston  105000\n2    Susan   44          Texas       Houston   88000\n3     Mike   26       New York      New York   90000\n4    Alice   32   Pennsylvania  Philadelphia   56000\n5    Sarah   45       New York      New York   95000\n6   Nicole   53        Arizona       Phoenix   55000\n7  Heather   44          Texas        Dallas  167727\n8     Alex   41       New York      New York  110000",
            "text/html": "<div>\n<style scoped>\n    .dataframe tbody tr th:only-of-type {\n        vertical-align: middle;\n    }\n\n    .dataframe tbody tr th {\n        vertical-align: top;\n    }\n\n    .dataframe thead th {\n        text-align: right;\n    }\n</style>\n<table border=\"1\" class=\"dataframe\">\n  <thead>\n    <tr style=\"text-align: right;\">\n      <th></th>\n      <th>Name</th>\n      <th>Age</th>\n      <th>State</th>\n      <th>City</th>\n      <th>Salary</th>\n    </tr>\n  </thead>\n  <tbody>\n    <tr>\n      <th>0</th>\n      <td>Steve</td>\n      <td>49</td>\n      <td>New York</td>\n      <td>New York</td>\n      <td>85000</td>\n    </tr>\n    <tr>\n      <th>1</th>\n      <td>Dave</td>\n      <td>30</td>\n      <td>Massachusetts</td>\n      <td>Boston</td>\n      <td>105000</td>\n    </tr>\n    <tr>\n      <th>2</th>\n      <td>Susan</td>\n      <td>44</td>\n      <td>Texas</td>\n      <td>Houston</td>\n      <td>88000</td>\n    </tr>\n    <tr>\n      <th>3</th>\n      <td>Mike</td>\n      <td>26</td>\n      <td>New York</td>\n      <td>New York</td>\n      <td>90000</td>\n    </tr>\n    <tr>\n      <th>4</th>\n      <td>Alice</td>\n      <td>32</td>\n      <td>Pennsylvania</td>\n      <td>Philadelphia</td>\n      <td>56000</td>\n    </tr>\n    <tr>\n      <th>5</th>\n      <td>Sarah</td>\n      <td>45</td>\n      <td>New York</td>\n      <td>New York</td>\n      <td>95000</td>\n    </tr>\n    <tr>\n      <th>6</th>\n      <td>Nicole</td>\n      <td>53</td>\n      <td>Arizona</td>\n      <td>Phoenix</td>\n      <td>55000</td>\n    </tr>\n    <tr>\n      <th>7</th>\n      <td>Heather</td>\n      <td>44</td>\n      <td>Texas</td>\n      <td>Dallas</td>\n      <td>167727</td>\n    </tr>\n    <tr>\n      <th>8</th>\n      <td>Alex</td>\n      <td>41</td>\n      <td>New York</td>\n      <td>New York</td>\n      <td>110000</td>\n    </tr>\n  </tbody>\n</table>\n</div>"
          },
          "metadata": {}
        }
      ]
    },
    {
      "cell_type": "markdown",
      "source": "## Data Concatenation\n\nFinally, there may be instances where it might be beneficial to combine columns.  In this instance, we are going to replace State and City with a single feature that combines the two values.  ",
      "metadata": {}
    },
    {
      "cell_type": "code",
      "source": "df6 = df5.copy()\n\ndf6['State/City'] = df6['State'] + ', ' + df6['City']\n\ndisplay(df6)",
      "metadata": {
        "trusted": true
      },
      "execution_count": 8,
      "outputs": [
        {
          "output_type": "display_data",
          "data": {
            "text/plain": "      Name  Age          State          City  Salary  \\\n0    Steve   49       New York      New York   85000   \n1     Dave   30  Massachusetts        Boston  105000   \n2    Susan   44          Texas       Houston   88000   \n3     Mike   26       New York      New York   90000   \n4    Alice   32   Pennsylvania  Philadelphia   56000   \n5    Sarah   45       New York      New York   95000   \n6   Nicole   53        Arizona       Phoenix   55000   \n7  Heather   44          Texas        Dallas  167727   \n8     Alex   41       New York      New York  110000   \n\n                   State/City  \n0          New York, New York  \n1       Massachusetts, Boston  \n2              Texas, Houston  \n3          New York, New York  \n4  Pennsylvania, Philadelphia  \n5          New York, New York  \n6            Arizona, Phoenix  \n7               Texas, Dallas  \n8          New York, New York  ",
            "text/html": "<div>\n<style scoped>\n    .dataframe tbody tr th:only-of-type {\n        vertical-align: middle;\n    }\n\n    .dataframe tbody tr th {\n        vertical-align: top;\n    }\n\n    .dataframe thead th {\n        text-align: right;\n    }\n</style>\n<table border=\"1\" class=\"dataframe\">\n  <thead>\n    <tr style=\"text-align: right;\">\n      <th></th>\n      <th>Name</th>\n      <th>Age</th>\n      <th>State</th>\n      <th>City</th>\n      <th>Salary</th>\n      <th>State/City</th>\n    </tr>\n  </thead>\n  <tbody>\n    <tr>\n      <th>0</th>\n      <td>Steve</td>\n      <td>49</td>\n      <td>New York</td>\n      <td>New York</td>\n      <td>85000</td>\n      <td>New York, New York</td>\n    </tr>\n    <tr>\n      <th>1</th>\n      <td>Dave</td>\n      <td>30</td>\n      <td>Massachusetts</td>\n      <td>Boston</td>\n      <td>105000</td>\n      <td>Massachusetts, Boston</td>\n    </tr>\n    <tr>\n      <th>2</th>\n      <td>Susan</td>\n      <td>44</td>\n      <td>Texas</td>\n      <td>Houston</td>\n      <td>88000</td>\n      <td>Texas, Houston</td>\n    </tr>\n    <tr>\n      <th>3</th>\n      <td>Mike</td>\n      <td>26</td>\n      <td>New York</td>\n      <td>New York</td>\n      <td>90000</td>\n      <td>New York, New York</td>\n    </tr>\n    <tr>\n      <th>4</th>\n      <td>Alice</td>\n      <td>32</td>\n      <td>Pennsylvania</td>\n      <td>Philadelphia</td>\n      <td>56000</td>\n      <td>Pennsylvania, Philadelphia</td>\n    </tr>\n    <tr>\n      <th>5</th>\n      <td>Sarah</td>\n      <td>45</td>\n      <td>New York</td>\n      <td>New York</td>\n      <td>95000</td>\n      <td>New York, New York</td>\n    </tr>\n    <tr>\n      <th>6</th>\n      <td>Nicole</td>\n      <td>53</td>\n      <td>Arizona</td>\n      <td>Phoenix</td>\n      <td>55000</td>\n      <td>Arizona, Phoenix</td>\n    </tr>\n    <tr>\n      <th>7</th>\n      <td>Heather</td>\n      <td>44</td>\n      <td>Texas</td>\n      <td>Dallas</td>\n      <td>167727</td>\n      <td>Texas, Dallas</td>\n    </tr>\n    <tr>\n      <th>8</th>\n      <td>Alex</td>\n      <td>41</td>\n      <td>New York</td>\n      <td>New York</td>\n      <td>110000</td>\n      <td>New York, New York</td>\n    </tr>\n  </tbody>\n</table>\n</div>"
          },
          "metadata": {}
        }
      ]
    },
    {
      "cell_type": "code",
      "source": "",
      "metadata": {},
      "execution_count": null,
      "outputs": []
    }
  ]
}