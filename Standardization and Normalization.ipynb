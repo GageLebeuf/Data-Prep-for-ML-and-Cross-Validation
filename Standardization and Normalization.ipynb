{
 "cells": [
  {
   "cell_type": "markdown",
   "id": "66fa39b1",
   "metadata": {},
   "source": [
    "# Standardization and Normalization of data\n",
    "\n",
    "In this notebook we will be discussing feature scaling and how it can positively impact your model building experience (for some models!)."
   ]
  },
  {
   "cell_type": "markdown",
   "id": "2f6458c2",
   "metadata": {},
   "source": [
    "## What is Standardization?\n",
    " \n",
    "Standardization is a scaling technique where you center the values of your dataset's features around the mean with a unit standard deviation.  This helps put all features within a dataset on a comparable scale, taking care of skewness and scale issues, which helps models to process the information.  The process involves turning each feature  into a normal distribution (See graph below).  A normal distribution has a mean of 0 with a standard deviation of 1. When the features are standardized the standard deviation of each feature reflects the standard deviation found in the features original values. It can help to think of standardization by imagining each feature as having its own normal distribution graph.  "
   ]
  },
  {
   "cell_type": "code",
   "execution_count": 22,
   "id": "8ab8c15f",
   "metadata": {
    "scrolled": false
   },
   "outputs": [
    {
     "data": {
      "image/png": "[encoded data removed]",
      "text/plain": [
       "<Figure size 432x288 with 1 Axes>"
      ]
     },
     "metadata": {},
     "output_type": "display_data"
    }
   ],
   "source": [
    "import numpy as np\n",
    "import matplotlib.pyplot as plt\n",
    "from scipy import stats as stats\n",
    "%matplotlib inline\n",
    "\n",
    "plt.style.use('ggplot')\n",
    "mean=0\n",
    "std=1\n",
    "x=np.linspace(mean-3*std, mean+3*std,100)\n",
    "iq=stats.norm(mean,std)\n",
    "plt.plot(x,iq.pdf(x),'b')\n",
    "\n",
    "px=np.arange(-3,-1.96,.1)\n",
    "px1=np.arange(1.96,3,.1)\n",
    "plt.xlabel('Standard Deviations')\n",
    "plt.ylabel('Probability Distribution')\n",
    "plt.title('Normal Distribution')\n",
    "plt.axvline(x = 0, color = 'red')\n",
    "\n",
    "plt.annotate('Mean of zero', xy=(0, 0.25),xytext=(-2.6, 0.35), arrowprops = {\"arrowstyle\":\"->\", \"color\":\"black\"})\n",
    "plt.annotate('Sigma = 1',xy=(0, 0.25), xytext=(1.6, 0.35))\n",
    "\n",
    "plt.show()"
   ]
  },
  {
   "cell_type": "markdown",
   "id": "a87f1dfa",
   "metadata": {},
   "source": [
    "### Standard deviation formula:\n",
    "\n",
    "### $z = \\frac{x-\\mu}{\\sigma}$\n",
    "\n",
    "$\\mu$ = Mean of the given distribution\n",
    "\n",
    "$\\sigma$ = Standard deviation of the given distribution\n",
    "\n",
    "$z$ = Standard score.  Represents the number of standard deviations above/below the mean for a specific observation\n",
    "\n",
    "<br>\n",
    "<br>\n",
    "\n",
    "### When should you standardize your data?\n",
    "\n",
    "Standardizing our dataset's features to have a mean of 0 and a standard deviation of 1 is appropriate when we know our feature's have a gaussian distribution (normal distribution) and the scales between each variable are widely differing. trying to compare measurements that have different units.  In our dataset below we have two variables, # of kids and weight.  When we look at the values within each variable we can see that they are obviously in very different units, and have wildly different scales.  Standardization brings them to a comparable level that allows for meaningful inference on each's impact during our model building phase.  Standardization can be helpful when you are using machine learning models that make assumptions about your data's distribution, such as logistic/linear regression or LDA.\n",
    "\n",
    "Let's run through a practice example of standarization to demonstrate how it transforms the feature's distribution.\n",
    "\n",
    "<br>\n",
    "\n",
    "**Note the difference in x-scale's between kids and weight.  A machine learning model may overstate the signal found in weight just because the scale is much larger than that of kids.  By standardizing them both, we put them on equal footing in terms of each values standard deviation about the feature's mean value, allowing for an apples to apples comparison of feature values.\n"
   ]
  },
  {
   "cell_type": "code",
   "execution_count": 20,
   "id": "0a4cf0eb",
   "metadata": {
    "scrolled": false
   },
   "outputs": [
    {
     "data": {
      "text/plain": [
       "''"
      ]
     },
     "metadata": {},
     "output_type": "display_data"
    },
    {
     "data": {
      "text/plain": [
       "'First 10 observations:'"
      ]
     },
     "metadata": {},
     "output_type": "display_data"
    },
    {
     "data": {
      "text/html": [
       "<div>\n",
       "<style scoped>\n",
       "    .dataframe tbody tr th:only-of-type {\n",
       "        vertical-align: middle;\n",
       "    }\n",
       "\n",
       "    .dataframe tbody tr th {\n",
       "        vertical-align: top;\n",
       "    }\n",
       "\n",
       "    .dataframe thead th {\n",
       "        text-align: right;\n",
       "    }\n",
       "</style>\n",
       "<table border=\"1\" class=\"dataframe\">\n",
       "  <thead>\n",
       "    <tr style=\"text-align: right;\">\n",
       "      <th></th>\n",
       "      <th>kids</th>\n",
       "      <th>weight</th>\n",
       "    </tr>\n",
       "  </thead>\n",
       "  <tbody>\n",
       "    <tr>\n",
       "      <th>0</th>\n",
       "      <td>4</td>\n",
       "      <td>146</td>\n",
       "    </tr>\n",
       "    <tr>\n",
       "      <th>1</th>\n",
       "      <td>2</td>\n",
       "      <td>150</td>\n",
       "    </tr>\n",
       "    <tr>\n",
       "      <th>2</th>\n",
       "      <td>0</td>\n",
       "      <td>151</td>\n",
       "    </tr>\n",
       "    <tr>\n",
       "      <th>3</th>\n",
       "      <td>1</td>\n",
       "      <td>154</td>\n",
       "    </tr>\n",
       "    <tr>\n",
       "      <th>4</th>\n",
       "      <td>6</td>\n",
       "      <td>155</td>\n",
       "    </tr>\n",
       "    <tr>\n",
       "      <th>5</th>\n",
       "      <td>0</td>\n",
       "      <td>158</td>\n",
       "    </tr>\n",
       "    <tr>\n",
       "      <th>6</th>\n",
       "      <td>1</td>\n",
       "      <td>160</td>\n",
       "    </tr>\n",
       "    <tr>\n",
       "      <th>7</th>\n",
       "      <td>0</td>\n",
       "      <td>161</td>\n",
       "    </tr>\n",
       "    <tr>\n",
       "      <th>8</th>\n",
       "      <td>2</td>\n",
       "      <td>163</td>\n",
       "    </tr>\n",
       "    <tr>\n",
       "      <th>9</th>\n",
       "      <td>0</td>\n",
       "      <td>169</td>\n",
       "    </tr>\n",
       "  </tbody>\n",
       "</table>\n",
       "</div>"
      ],
      "text/plain": [
       "   kids  weight\n",
       "0     4     146\n",
       "1     2     150\n",
       "2     0     151\n",
       "3     1     154\n",
       "4     6     155\n",
       "5     0     158\n",
       "6     1     160\n",
       "7     0     161\n",
       "8     2     163\n",
       "9     0     169"
      ]
     },
     "metadata": {},
     "output_type": "display_data"
    },
    {
     "data": {
      "image/png": "[encoded data removed]",
      "text/plain": [
       "<Figure size 360x360 with 1 Axes>"
      ]
     },
     "metadata": {
      "needs_background": "light"
     },
     "output_type": "display_data"
    },
    {
     "data": {
      "image/png": "[encoded data removed]",
      "text/plain": [
       "<Figure size 360x360 with 1 Axes>"
      ]
     },
     "metadata": {
      "needs_background": "light"
     },
     "output_type": "display_data"
    },
    {
     "data": {
      "text/plain": [
       "'============================================='"
      ]
     },
     "metadata": {},
     "output_type": "display_data"
    },
    {
     "data": {
      "text/plain": [
       "'Kids maximum value: 6'"
      ]
     },
     "metadata": {},
     "output_type": "display_data"
    },
    {
     "data": {
      "text/plain": [
       "'Kids minimum value: 0'"
      ]
     },
     "metadata": {},
     "output_type": "display_data"
    },
    {
     "data": {
      "text/plain": [
       "'============================================='"
      ]
     },
     "metadata": {},
     "output_type": "display_data"
    },
    {
     "data": {
      "text/plain": [
       "'Weight maximum value: 208'"
      ]
     },
     "metadata": {},
     "output_type": "display_data"
    },
    {
     "data": {
      "text/plain": [
       "'Weight minimum value: 146'"
      ]
     },
     "metadata": {},
     "output_type": "display_data"
    },
    {
     "data": {
      "text/html": [
       "<div>\n",
       "<style scoped>\n",
       "    .dataframe tbody tr th:only-of-type {\n",
       "        vertical-align: middle;\n",
       "    }\n",
       "\n",
       "    .dataframe tbody tr th {\n",
       "        vertical-align: top;\n",
       "    }\n",
       "\n",
       "    .dataframe thead th {\n",
       "        text-align: right;\n",
       "    }\n",
       "</style>\n",
       "<table border=\"1\" class=\"dataframe\">\n",
       "  <thead>\n",
       "    <tr style=\"text-align: right;\">\n",
       "      <th></th>\n",
       "      <th>Transformed kids</th>\n",
       "      <th>Transformed weight</th>\n",
       "    </tr>\n",
       "  </thead>\n",
       "  <tbody>\n",
       "    <tr>\n",
       "      <th>0</th>\n",
       "      <td>0.666667</td>\n",
       "      <td>0.000000</td>\n",
       "    </tr>\n",
       "    <tr>\n",
       "      <th>1</th>\n",
       "      <td>0.333333</td>\n",
       "      <td>0.064516</td>\n",
       "    </tr>\n",
       "    <tr>\n",
       "      <th>2</th>\n",
       "      <td>0.000000</td>\n",
       "      <td>0.080645</td>\n",
       "    </tr>\n",
       "    <tr>\n",
       "      <th>3</th>\n",
       "      <td>0.166667</td>\n",
       "      <td>0.129032</td>\n",
       "    </tr>\n",
       "    <tr>\n",
       "      <th>4</th>\n",
       "      <td>1.000000</td>\n",
       "      <td>0.145161</td>\n",
       "    </tr>\n",
       "    <tr>\n",
       "      <th>5</th>\n",
       "      <td>0.000000</td>\n",
       "      <td>0.193548</td>\n",
       "    </tr>\n",
       "    <tr>\n",
       "      <th>6</th>\n",
       "      <td>0.166667</td>\n",
       "      <td>0.225806</td>\n",
       "    </tr>\n",
       "    <tr>\n",
       "      <th>7</th>\n",
       "      <td>0.000000</td>\n",
       "      <td>0.241935</td>\n",
       "    </tr>\n",
       "    <tr>\n",
       "      <th>8</th>\n",
       "      <td>0.333333</td>\n",
       "      <td>0.274194</td>\n",
       "    </tr>\n",
       "    <tr>\n",
       "      <th>9</th>\n",
       "      <td>0.000000</td>\n",
       "      <td>0.370968</td>\n",
       "    </tr>\n",
       "    <tr>\n",
       "      <th>10</th>\n",
       "      <td>0.333333</td>\n",
       "      <td>0.435484</td>\n",
       "    </tr>\n",
       "    <tr>\n",
       "      <th>11</th>\n",
       "      <td>0.166667</td>\n",
       "      <td>0.483871</td>\n",
       "    </tr>\n",
       "    <tr>\n",
       "      <th>12</th>\n",
       "      <td>0.333333</td>\n",
       "      <td>0.516129</td>\n",
       "    </tr>\n",
       "    <tr>\n",
       "      <th>13</th>\n",
       "      <td>0.000000</td>\n",
       "      <td>0.532258</td>\n",
       "    </tr>\n",
       "    <tr>\n",
       "      <th>14</th>\n",
       "      <td>0.166667</td>\n",
       "      <td>0.548387</td>\n",
       "    </tr>\n",
       "    <tr>\n",
       "      <th>15</th>\n",
       "      <td>0.000000</td>\n",
       "      <td>0.564516</td>\n",
       "    </tr>\n",
       "    <tr>\n",
       "      <th>16</th>\n",
       "      <td>0.166667</td>\n",
       "      <td>0.580645</td>\n",
       "    </tr>\n",
       "    <tr>\n",
       "      <th>17</th>\n",
       "      <td>1.000000</td>\n",
       "      <td>0.612903</td>\n",
       "    </tr>\n",
       "    <tr>\n",
       "      <th>18</th>\n",
       "      <td>0.333333</td>\n",
       "      <td>0.645161</td>\n",
       "    </tr>\n",
       "    <tr>\n",
       "      <th>19</th>\n",
       "      <td>0.000000</td>\n",
       "      <td>0.661290</td>\n",
       "    </tr>\n",
       "    <tr>\n",
       "      <th>20</th>\n",
       "      <td>0.666667</td>\n",
       "      <td>0.709677</td>\n",
       "    </tr>\n",
       "    <tr>\n",
       "      <th>21</th>\n",
       "      <td>0.166667</td>\n",
       "      <td>0.725806</td>\n",
       "    </tr>\n",
       "    <tr>\n",
       "      <th>22</th>\n",
       "      <td>0.500000</td>\n",
       "      <td>0.758065</td>\n",
       "    </tr>\n",
       "    <tr>\n",
       "      <th>23</th>\n",
       "      <td>0.666667</td>\n",
       "      <td>0.790323</td>\n",
       "    </tr>\n",
       "    <tr>\n",
       "      <th>24</th>\n",
       "      <td>0.333333</td>\n",
       "      <td>0.854839</td>\n",
       "    </tr>\n",
       "    <tr>\n",
       "      <th>25</th>\n",
       "      <td>0.166667</td>\n",
       "      <td>0.887097</td>\n",
       "    </tr>\n",
       "    <tr>\n",
       "      <th>26</th>\n",
       "      <td>0.333333</td>\n",
       "      <td>0.903226</td>\n",
       "    </tr>\n",
       "    <tr>\n",
       "      <th>27</th>\n",
       "      <td>0.666667</td>\n",
       "      <td>0.967742</td>\n",
       "    </tr>\n",
       "    <tr>\n",
       "      <th>28</th>\n",
       "      <td>0.333333</td>\n",
       "      <td>1.000000</td>\n",
       "    </tr>\n",
       "    <tr>\n",
       "      <th>29</th>\n",
       "      <td>0.166667</td>\n",
       "      <td>0.887097</td>\n",
       "    </tr>\n",
       "  </tbody>\n",
       "</table>\n",
       "</div>"
      ],
      "text/plain": [
       "    Transformed kids  Transformed weight\n",
       "0           0.666667            0.000000\n",
       "1           0.333333            0.064516\n",
       "2           0.000000            0.080645\n",
       "3           0.166667            0.129032\n",
       "4           1.000000            0.145161\n",
       "5           0.000000            0.193548\n",
       "6           0.166667            0.225806\n",
       "7           0.000000            0.241935\n",
       "8           0.333333            0.274194\n",
       "9           0.000000            0.370968\n",
       "10          0.333333            0.435484\n",
       "11          0.166667            0.483871\n",
       "12          0.333333            0.516129\n",
       "13          0.000000            0.532258\n",
       "14          0.166667            0.548387\n",
       "15          0.000000            0.564516\n",
       "16          0.166667            0.580645\n",
       "17          1.000000            0.612903\n",
       "18          0.333333            0.645161\n",
       "19          0.000000            0.661290\n",
       "20          0.666667            0.709677\n",
       "21          0.166667            0.725806\n",
       "22          0.500000            0.758065\n",
       "23          0.666667            0.790323\n",
       "24          0.333333            0.854839\n",
       "25          0.166667            0.887097\n",
       "26          0.333333            0.903226\n",
       "27          0.666667            0.967742\n",
       "28          0.333333            1.000000\n",
       "29          0.166667            0.887097"
      ]
     },
     "metadata": {},
     "output_type": "display_data"
    },
    {
     "data": {
      "image/png": "[encoded data removed]",
      "text/plain": [
       "<Figure size 360x360 with 1 Axes>"
      ]
     },
     "metadata": {
      "needs_background": "light"
     },
     "output_type": "display_data"
    },
    {
     "data": {
      "image/png": "[encoded data removed]",
      "text/plain": [
       "<Figure size 360x360 with 1 Axes>"
      ]
     },
     "metadata": {
      "needs_background": "light"
     },
     "output_type": "display_data"
    },
    {
     "data": {
      "text/plain": [
       "'============================================='"
      ]
     },
     "metadata": {},
     "output_type": "display_data"
    },
    {
     "data": {
      "text/plain": [
       "'Transformed kids maximum value: 2.487592975524973'"
      ]
     },
     "metadata": {},
     "output_type": "display_data"
    },
    {
     "data": {
      "text/plain": [
       "'Transformed kids minimum value: -1.0945409092309881'"
      ]
     },
     "metadata": {},
     "output_type": "display_data"
    },
    {
     "data": {
      "text/plain": [
       "'============================================='"
      ]
     },
     "metadata": {},
     "output_type": "display_data"
    },
    {
     "data": {
      "text/plain": [
       "'Transformed weight maximum value: 1.6268879352440473'"
      ]
     },
     "metadata": {},
     "output_type": "display_data"
    },
    {
     "data": {
      "text/plain": [
       "'Transformed weight minimum value: -1.8078584433642697'"
      ]
     },
     "metadata": {},
     "output_type": "display_data"
    }
   ],
   "source": [
    "import sys\n",
    "import pandas as pd\n",
    "import seaborn as sns\n",
    "from sklearn.preprocessing import StandardScaler\n",
    "%matplotlib inline\n",
    "\n",
    "weight = [146,150,151,154,155,158,160,161,163,169,173,176,178,179,180,181,182,184,186,187,190,191,193,195,199,201,202,206,208,201]\n",
    "\n",
    "kids = [4,2,0,1,6,0,1,0,2,0,2,1,2,0,1,0,1,6,2,0,4,1,3,4,2,1,2,4,2,1]\n",
    "\n",
    "df = pd.DataFrame({'kids' : kids, 'weight' : weight})\n",
    "\n",
    "# Display the first 10 observations of our dataframe\n",
    "display('')\n",
    "display(\"First 10 observations:\")\n",
    "display(df.head(10))\n",
    "\n",
    "# Plot the untransformed data\n",
    "sns.displot(df['kids'], kde=True, bins = 10, discrete = True).set(title= '# of kids')\n",
    "\n",
    "sns.displot(df['weight'], kde=True, bins = 10, discrete = True).set(title= 'Weight')\n",
    "\n",
    "plt.show()\n",
    "display('=============================================')\n",
    "\n",
    "display('Kids maximum value: ' + str(df['kids'].max()))\n",
    "display('Kids minimum value: ' + str(df['kids'].min()))\n",
    "\n",
    "display('=============================================')\n",
    "\n",
    "\n",
    "display('Weight maximum value: ' + str(df['weight'].max()))\n",
    "display('Weight minimum value: ' + str(df['weight'].min()))\n",
    "\n",
    "\n",
    "plt.show()\n",
    "\n",
    "\n",
    "\n",
    "# Here we will standardize our data using Standard Scalar from the sklearn library\n",
    "\n",
    "cols = df.columns\n",
    "sc = StandardScaler()\n",
    "df_standardized = pd.DataFrame(sc.fit_transform(df), columns=['Transformed kids', 'Transformed weight'])\n",
    "\n",
    "display(kids_standardized)\n",
    "\n",
    "sns.displot(df_standardized['Transformed kids'],  kde=True, bins = 10).set(title = 'Standardized # of kids')\n",
    "sns.displot(df_standardized['Transformed weight'],  kde=True, bins = 10).set(title = 'Standardized # of kids')\n",
    "plt.show()\n",
    "\n",
    "display('=============================================')\n",
    "\n",
    "display('Transformed kids maximum value: ' + str(df_standardized['Transformed kids'].max()))\n",
    "display('Transformed kids minimum value: ' + str(df_standardized['Transformed kids'].min()))\n",
    "\n",
    "display('=============================================')\n",
    "\n",
    "display('Transformed weight maximum value: ' + str(df_standardized['Transformed weight'].max()))\n",
    "display('Transformed weight minimum value: ' + str(df_standardized['Transformed weight'].min()))\n"
   ]
  },
  {
   "cell_type": "markdown",
   "id": "ea6e4bb1",
   "metadata": {},
   "source": []
  },
  {
   "cell_type": "markdown",
   "id": "5f5e2d4e",
   "metadata": {},
   "source": [
    "## What is Normalization?\n",
    "\n",
    "Normalization is another data scaling technique that looks to put features in like terms for easier comparison.  It does so by condensing all of a features observations on a scale of 0 to 1, where 0 represents the minimum value, and 1 represents the maximum feature value.\n",
    "\n",
    "### When should you normalize your data?\n",
    "\n",
    "You should normalize your data when you do not know the distribution of your data or when you know the distribution is not gaussian (normal distribution).  Normalizing is useful when your data is on varying scales and/or you are using a machine learning technique that does not make assumptions about your data's distribution (ie. KNN or Neural Networks)\n"
   ]
  },
  {
   "cell_type": "code",
   "execution_count": 23,
   "id": "4db7afd7",
   "metadata": {
    "scrolled": false
   },
   "outputs": [
    {
     "data": {
      "text/plain": [
       "''"
      ]
     },
     "metadata": {},
     "output_type": "display_data"
    },
    {
     "data": {
      "text/plain": [
       "'First 10 observations:'"
      ]
     },
     "metadata": {},
     "output_type": "display_data"
    },
    {
     "data": {
      "text/html": [
       "<div>\n",
       "<style scoped>\n",
       "    .dataframe tbody tr th:only-of-type {\n",
       "        vertical-align: middle;\n",
       "    }\n",
       "\n",
       "    .dataframe tbody tr th {\n",
       "        vertical-align: top;\n",
       "    }\n",
       "\n",
       "    .dataframe thead th {\n",
       "        text-align: right;\n",
       "    }\n",
       "</style>\n",
       "<table border=\"1\" class=\"dataframe\">\n",
       "  <thead>\n",
       "    <tr style=\"text-align: right;\">\n",
       "      <th></th>\n",
       "      <th>kids</th>\n",
       "      <th>weight</th>\n",
       "    </tr>\n",
       "  </thead>\n",
       "  <tbody>\n",
       "    <tr>\n",
       "      <th>0</th>\n",
       "      <td>4</td>\n",
       "      <td>146</td>\n",
       "    </tr>\n",
       "    <tr>\n",
       "      <th>1</th>\n",
       "      <td>2</td>\n",
       "      <td>150</td>\n",
       "    </tr>\n",
       "    <tr>\n",
       "      <th>2</th>\n",
       "      <td>0</td>\n",
       "      <td>151</td>\n",
       "    </tr>\n",
       "    <tr>\n",
       "      <th>3</th>\n",
       "      <td>1</td>\n",
       "      <td>154</td>\n",
       "    </tr>\n",
       "    <tr>\n",
       "      <th>4</th>\n",
       "      <td>6</td>\n",
       "      <td>155</td>\n",
       "    </tr>\n",
       "    <tr>\n",
       "      <th>5</th>\n",
       "      <td>0</td>\n",
       "      <td>158</td>\n",
       "    </tr>\n",
       "    <tr>\n",
       "      <th>6</th>\n",
       "      <td>1</td>\n",
       "      <td>160</td>\n",
       "    </tr>\n",
       "    <tr>\n",
       "      <th>7</th>\n",
       "      <td>0</td>\n",
       "      <td>161</td>\n",
       "    </tr>\n",
       "    <tr>\n",
       "      <th>8</th>\n",
       "      <td>2</td>\n",
       "      <td>163</td>\n",
       "    </tr>\n",
       "    <tr>\n",
       "      <th>9</th>\n",
       "      <td>0</td>\n",
       "      <td>169</td>\n",
       "    </tr>\n",
       "  </tbody>\n",
       "</table>\n",
       "</div>"
      ],
      "text/plain": [
       "   kids  weight\n",
       "0     4     146\n",
       "1     2     150\n",
       "2     0     151\n",
       "3     1     154\n",
       "4     6     155\n",
       "5     0     158\n",
       "6     1     160\n",
       "7     0     161\n",
       "8     2     163\n",
       "9     0     169"
      ]
     },
     "metadata": {},
     "output_type": "display_data"
    },
    {
     "data": {
      "image/png": "[encoded data removed]",
      "text/plain": [
       "<Figure size 360x360 with 1 Axes>"
      ]
     },
     "metadata": {
      "needs_background": "light"
     },
     "output_type": "display_data"
    },
    {
     "data": {
      "image/png": "[encoded data removed]",
      "text/plain": [
       "<Figure size 360x360 with 1 Axes>"
      ]
     },
     "metadata": {
      "needs_background": "light"
     },
     "output_type": "display_data"
    },
    {
     "data": {
      "text/plain": [
       "'============================================='"
      ]
     },
     "metadata": {},
     "output_type": "display_data"
    },
    {
     "data": {
      "text/plain": [
       "'Kids maximum value: 6'"
      ]
     },
     "metadata": {},
     "output_type": "display_data"
    },
    {
     "data": {
      "text/plain": [
       "'Kids minimum value: 0'"
      ]
     },
     "metadata": {},
     "output_type": "display_data"
    },
    {
     "data": {
      "text/plain": [
       "'============================================='"
      ]
     },
     "metadata": {},
     "output_type": "display_data"
    },
    {
     "data": {
      "text/plain": [
       "'Weight maximum value: 208'"
      ]
     },
     "metadata": {},
     "output_type": "display_data"
    },
    {
     "data": {
      "text/plain": [
       "'Weight minimum value: 146'"
      ]
     },
     "metadata": {},
     "output_type": "display_data"
    },
    {
     "data": {
      "text/html": [
       "<div>\n",
       "<style scoped>\n",
       "    .dataframe tbody tr th:only-of-type {\n",
       "        vertical-align: middle;\n",
       "    }\n",
       "\n",
       "    .dataframe tbody tr th {\n",
       "        vertical-align: top;\n",
       "    }\n",
       "\n",
       "    .dataframe thead th {\n",
       "        text-align: right;\n",
       "    }\n",
       "</style>\n",
       "<table border=\"1\" class=\"dataframe\">\n",
       "  <thead>\n",
       "    <tr style=\"text-align: right;\">\n",
       "      <th></th>\n",
       "      <th>Transformed kids</th>\n",
       "      <th>Transformed weight</th>\n",
       "    </tr>\n",
       "  </thead>\n",
       "  <tbody>\n",
       "    <tr>\n",
       "      <th>0</th>\n",
       "      <td>0.666667</td>\n",
       "      <td>0.000000</td>\n",
       "    </tr>\n",
       "    <tr>\n",
       "      <th>1</th>\n",
       "      <td>0.333333</td>\n",
       "      <td>0.064516</td>\n",
       "    </tr>\n",
       "    <tr>\n",
       "      <th>2</th>\n",
       "      <td>0.000000</td>\n",
       "      <td>0.080645</td>\n",
       "    </tr>\n",
       "    <tr>\n",
       "      <th>3</th>\n",
       "      <td>0.166667</td>\n",
       "      <td>0.129032</td>\n",
       "    </tr>\n",
       "    <tr>\n",
       "      <th>4</th>\n",
       "      <td>1.000000</td>\n",
       "      <td>0.145161</td>\n",
       "    </tr>\n",
       "    <tr>\n",
       "      <th>5</th>\n",
       "      <td>0.000000</td>\n",
       "      <td>0.193548</td>\n",
       "    </tr>\n",
       "    <tr>\n",
       "      <th>6</th>\n",
       "      <td>0.166667</td>\n",
       "      <td>0.225806</td>\n",
       "    </tr>\n",
       "    <tr>\n",
       "      <th>7</th>\n",
       "      <td>0.000000</td>\n",
       "      <td>0.241935</td>\n",
       "    </tr>\n",
       "    <tr>\n",
       "      <th>8</th>\n",
       "      <td>0.333333</td>\n",
       "      <td>0.274194</td>\n",
       "    </tr>\n",
       "    <tr>\n",
       "      <th>9</th>\n",
       "      <td>0.000000</td>\n",
       "      <td>0.370968</td>\n",
       "    </tr>\n",
       "    <tr>\n",
       "      <th>10</th>\n",
       "      <td>0.333333</td>\n",
       "      <td>0.435484</td>\n",
       "    </tr>\n",
       "    <tr>\n",
       "      <th>11</th>\n",
       "      <td>0.166667</td>\n",
       "      <td>0.483871</td>\n",
       "    </tr>\n",
       "    <tr>\n",
       "      <th>12</th>\n",
       "      <td>0.333333</td>\n",
       "      <td>0.516129</td>\n",
       "    </tr>\n",
       "    <tr>\n",
       "      <th>13</th>\n",
       "      <td>0.000000</td>\n",
       "      <td>0.532258</td>\n",
       "    </tr>\n",
       "    <tr>\n",
       "      <th>14</th>\n",
       "      <td>0.166667</td>\n",
       "      <td>0.548387</td>\n",
       "    </tr>\n",
       "    <tr>\n",
       "      <th>15</th>\n",
       "      <td>0.000000</td>\n",
       "      <td>0.564516</td>\n",
       "    </tr>\n",
       "    <tr>\n",
       "      <th>16</th>\n",
       "      <td>0.166667</td>\n",
       "      <td>0.580645</td>\n",
       "    </tr>\n",
       "    <tr>\n",
       "      <th>17</th>\n",
       "      <td>1.000000</td>\n",
       "      <td>0.612903</td>\n",
       "    </tr>\n",
       "    <tr>\n",
       "      <th>18</th>\n",
       "      <td>0.333333</td>\n",
       "      <td>0.645161</td>\n",
       "    </tr>\n",
       "    <tr>\n",
       "      <th>19</th>\n",
       "      <td>0.000000</td>\n",
       "      <td>0.661290</td>\n",
       "    </tr>\n",
       "    <tr>\n",
       "      <th>20</th>\n",
       "      <td>0.666667</td>\n",
       "      <td>0.709677</td>\n",
       "    </tr>\n",
       "    <tr>\n",
       "      <th>21</th>\n",
       "      <td>0.166667</td>\n",
       "      <td>0.725806</td>\n",
       "    </tr>\n",
       "    <tr>\n",
       "      <th>22</th>\n",
       "      <td>0.500000</td>\n",
       "      <td>0.758065</td>\n",
       "    </tr>\n",
       "    <tr>\n",
       "      <th>23</th>\n",
       "      <td>0.666667</td>\n",
       "      <td>0.790323</td>\n",
       "    </tr>\n",
       "    <tr>\n",
       "      <th>24</th>\n",
       "      <td>0.333333</td>\n",
       "      <td>0.854839</td>\n",
       "    </tr>\n",
       "    <tr>\n",
       "      <th>25</th>\n",
       "      <td>0.166667</td>\n",
       "      <td>0.887097</td>\n",
       "    </tr>\n",
       "    <tr>\n",
       "      <th>26</th>\n",
       "      <td>0.333333</td>\n",
       "      <td>0.903226</td>\n",
       "    </tr>\n",
       "    <tr>\n",
       "      <th>27</th>\n",
       "      <td>0.666667</td>\n",
       "      <td>0.967742</td>\n",
       "    </tr>\n",
       "    <tr>\n",
       "      <th>28</th>\n",
       "      <td>0.333333</td>\n",
       "      <td>1.000000</td>\n",
       "    </tr>\n",
       "    <tr>\n",
       "      <th>29</th>\n",
       "      <td>0.166667</td>\n",
       "      <td>0.887097</td>\n",
       "    </tr>\n",
       "  </tbody>\n",
       "</table>\n",
       "</div>"
      ],
      "text/plain": [
       "    Transformed kids  Transformed weight\n",
       "0           0.666667            0.000000\n",
       "1           0.333333            0.064516\n",
       "2           0.000000            0.080645\n",
       "3           0.166667            0.129032\n",
       "4           1.000000            0.145161\n",
       "5           0.000000            0.193548\n",
       "6           0.166667            0.225806\n",
       "7           0.000000            0.241935\n",
       "8           0.333333            0.274194\n",
       "9           0.000000            0.370968\n",
       "10          0.333333            0.435484\n",
       "11          0.166667            0.483871\n",
       "12          0.333333            0.516129\n",
       "13          0.000000            0.532258\n",
       "14          0.166667            0.548387\n",
       "15          0.000000            0.564516\n",
       "16          0.166667            0.580645\n",
       "17          1.000000            0.612903\n",
       "18          0.333333            0.645161\n",
       "19          0.000000            0.661290\n",
       "20          0.666667            0.709677\n",
       "21          0.166667            0.725806\n",
       "22          0.500000            0.758065\n",
       "23          0.666667            0.790323\n",
       "24          0.333333            0.854839\n",
       "25          0.166667            0.887097\n",
       "26          0.333333            0.903226\n",
       "27          0.666667            0.967742\n",
       "28          0.333333            1.000000\n",
       "29          0.166667            0.887097"
      ]
     },
     "metadata": {},
     "output_type": "display_data"
    },
    {
     "data": {
      "image/png": "[encoded data removed]",
      "text/plain": [
       "<Figure size 360x360 with 1 Axes>"
      ]
     },
     "metadata": {
      "needs_background": "light"
     },
     "output_type": "display_data"
    },
    {
     "data": {
      "image/png": "[encoded data removed]",
      "text/plain": [
       "<Figure size 360x360 with 1 Axes>"
      ]
     },
     "metadata": {
      "needs_background": "light"
     },
     "output_type": "display_data"
    },
    {
     "data": {
      "text/plain": [
       "'============================================='"
      ]
     },
     "metadata": {},
     "output_type": "display_data"
    },
    {
     "data": {
      "text/plain": [
       "'Transformed kids maximum value: 1.0'"
      ]
     },
     "metadata": {},
     "output_type": "display_data"
    },
    {
     "data": {
      "text/plain": [
       "'Transformed kids minimum value: 0.0'"
      ]
     },
     "metadata": {},
     "output_type": "display_data"
    },
    {
     "data": {
      "text/plain": [
       "'============================================='"
      ]
     },
     "metadata": {},
     "output_type": "display_data"
    },
    {
     "data": {
      "text/plain": [
       "'Transformed weight maximum value: 0.9999999999999996'"
      ]
     },
     "metadata": {},
     "output_type": "display_data"
    },
    {
     "data": {
      "text/plain": [
       "'Transformed weight minimum value: 0.0'"
      ]
     },
     "metadata": {},
     "output_type": "display_data"
    }
   ],
   "source": [
    "import sys\n",
    "import pandas as pd\n",
    "import seaborn as sns\n",
    "from sklearn.preprocessing import MinMaxScaler\n",
    "%matplotlib inline\n",
    "\n",
    "weight = [146,150,151,154,155,158,160,161,163,169,173,176,178,179,180,181,182,184,186,187,190,191,193,195,199,201,202,206,208,201]\n",
    "\n",
    "kids = [4,2,0,1,6,0,1,0,2,0,2,1,2,0,1,0,1,6,2,0,4,1,3,4,2,1,2,4,2,1]\n",
    "\n",
    "df = pd.DataFrame({'kids' : kids, 'weight' : weight})\n",
    "\n",
    "# Display the first 10 observations of our dataframe\n",
    "display('')\n",
    "display(\"First 10 observations:\")\n",
    "display(df.head(10))\n",
    "\n",
    "# Plot the untransformed data\n",
    "sns.displot(df['kids'], kde=True, bins = 20, discrete = True).set(title= '# of kids')\n",
    "\n",
    "sns.displot(df['weight'], kde=True, bins = 20, discrete = True).set(title= 'Weight')\n",
    "\n",
    "plt.show()\n",
    "display('=============================================')\n",
    "\n",
    "display('Kids maximum value: ' + str(df['kids'].max()))\n",
    "display('Kids minimum value: ' + str(df['kids'].min()))\n",
    "\n",
    "display('=============================================')\n",
    "\n",
    "\n",
    "display('Weight maximum value: ' + str(df['weight'].max()))\n",
    "display('Weight minimum value: ' + str(df['weight'].min()))\n",
    "\n",
    "\n",
    "plt.show()\n",
    "\n",
    "\n",
    "\n",
    "# Here we will standardize our data using Standard Scalar from the sklearn library\n",
    "\n",
    "cols = df.columns\n",
    "sc = MinMaxScaler()\n",
    "df_standardized = pd.DataFrame(sc.fit_transform(df), columns=['Transformed kids', 'Transformed weight'])\n",
    "\n",
    "display(kids_standardized)\n",
    "\n",
    "sns.displot(df_standardized['Transformed kids'],  kde=True, bins = 20).set(title = 'Standardized # of kids')\n",
    "sns.displot(df_standardized['Transformed weight'],  kde=True, bins = 20).set(title = 'Standardized # of kids')\n",
    "plt.show()\n",
    "\n",
    "display('=============================================')\n",
    "\n",
    "display('Transformed kids maximum value: ' + str(df_standardized['Transformed kids'].max()))\n",
    "display('Transformed kids minimum value: ' + str(df_standardized['Transformed kids'].min()))\n",
    "\n",
    "display('=============================================')\n",
    "\n",
    "display('Transformed weight maximum value: ' + str(df_standardized['Transformed weight'].max()))\n",
    "display('Transformed weight minimum value: ' + str(df_standardized['Transformed weight'].min()))\n"
   ]
  },
  {
   "cell_type": "code",
   "execution_count": null,
   "id": "6d53884c",
   "metadata": {},
   "outputs": [],
   "source": []
  }
 ],
 "metadata": {
  "kernelspec": {
   "display_name": "Python 3 (ipykernel)",
   "language": "python",
   "name": "python3"
  },
  "language_info": {
   "codemirror_mode": {
    "name": "ipython",
    "version": 3
   },
   "file_extension": ".py",
   "mimetype": "text/x-python",
   "name": "python",
   "nbconvert_exporter": "python",
   "pygments_lexer": "ipython3",
   "version": "3.9.7"
  }
 },
 "nbformat": 4,
 "nbformat_minor": 5
}
